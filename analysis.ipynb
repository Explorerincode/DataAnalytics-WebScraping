{
 "cells": [
  {
   "cell_type": "code",
   "execution_count": 1,
   "metadata": {},
   "outputs": [],
   "source": [
    "import pandas as pd\n",
    "import matplotlib.pyplot as plt\n",
    "import numpy as np\n",
    "import io\n",
    "import requests "
   ]
  },
  {
   "cell_type": "code",
   "execution_count": 2,
   "metadata": {},
   "outputs": [
    {
     "name": "stdout",
     "output_type": "stream",
     "text": [
      "                                               title  \\\n",
      "0                          Apartment Arthur van S...   \n",
      "1                          Apartment W.H. van Lee...   \n",
      "2                          Apartment Westerstraat...   \n",
      "3                          Apartment Markt 44 a  ...   \n",
      "4                          Apartment Botaniestraa...   \n",
      "\n",
      "                                            location  \\\n",
      "0              2624 CS Delft (Voorhof-Hoogbouw)  ...   \n",
      "1              2613 ZG Delft (Agnetaparkbuurt)   ...   \n",
      "2              2613 RD Delft (Westerkwartier)    ...   \n",
      "3                    2611 GV Delft (Centrum)           \n",
      "4                   2628 ED Delft (TU-Noord)           \n",
      "\n",
      "                                          price   area     room    furniture  \n",
      "0                  €1,095 per month              94 m²  4 rooms          NaN  \n",
      "1                  €1,350 per month              65 m²  3 rooms  Upholstered  \n",
      "2                  €1,195 per month              56 m²  2 rooms    Furnished  \n",
      "3                  €1,100 per month              45 m²  2 rooms  Upholstered  \n",
      "4                  €1,150 per month              60 m²  2 rooms  Upholstered  \n"
     ]
    }
   ],
   "source": [
    "#load Delft Rental price which scrap from dutch rental website from Github and add a column\n",
    "url =\"https://raw.githubusercontent.com/Explorerincode/DataAnalytics-WebScraping/main/Delft_rental_price.csv\"\n",
    "csv=requests.get(url).content\n",
    "rental_price=pd.read_csv(io.StringIO(csv.decode('utf-8')))\n",
    "rental_price.columns=[\"title\",\"location\",\"price\",\"area\",\"room\",\"furniture\"]\n",
    "print(rental_price.head())"
   ]
  }
 ],
 "metadata": {
  "kernelspec": {
   "display_name": "Python 3.10.3 64-bit",
   "language": "python",
   "name": "python3"
  },
  "language_info": {
   "codemirror_mode": {
    "name": "ipython",
    "version": 3
   },
   "file_extension": ".py",
   "mimetype": "text/x-python",
   "name": "python",
   "nbconvert_exporter": "python",
   "pygments_lexer": "ipython3",
   "version": "3.10.3"
  },
  "orig_nbformat": 4,
  "vscode": {
   "interpreter": {
    "hash": "98590ff4fe04c8543246b2a01debd3de3c5ca9b666f43f1fa87d5110c692004c"
   }
  }
 },
 "nbformat": 4,
 "nbformat_minor": 2
}
